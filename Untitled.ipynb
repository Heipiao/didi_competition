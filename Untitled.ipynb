{
 "cells": [
  {
   "cell_type": "code",
   "execution_count": 33,
   "metadata": {
    "collapsed": false
   },
   "outputs": [
    {
     "name": "stdout",
     "output_type": "stream",
     "text": [
      "Index(['order_id', 'driver_id', 'passenger_id', 'start_district_hash',\n",
      "       'dest_district_hash', 'Price', 'Time', 'week', 'date', 'time', 'NULL'],\n",
      "      dtype='object')\n"
     ]
    }
   ],
   "source": [
    "import pandas as pd\n",
    "data = pd.read_csv(\"../../season_1_sad/training_data/order_data/order_data_2016-01-01.csv\")\n",
    "data[\"NULL\"] = data[\"driver_id\"]==\"NULL\"\n",
    "print(data.columns)\n",
    "\n",
    "df = pd.DataFrame(columns=[\"order_count\",\"null_count\",\"fee_sum\"])"
   ]
  },
  {
   "cell_type": "code",
   "execution_count": 35,
   "metadata": {
    "collapsed": false
   },
   "outputs": [
    {
     "name": "stdout",
     "output_type": "stream",
     "text": [
      "                                                order_count  null_count  \\\n",
      "Time          start_district_hash                                         \n",
      "2016-01-01-1  1afd7afbc81ecc1b13886a569d869e8a           82          82   \n",
      "              1c60154546102e6525f68cb4f31e0657            2           2   \n",
      "              1cbfbdd079ef93e74405c53fcfff8567            7           7   \n",
      "              1ecbb52d73c522f184a6fc53128b1ea1            9           9   \n",
      "              2301bc920194c95cf0c7486e5675243c            4           4   \n",
      "              2350be163432e42270d2670cb3c02f80            2           2   \n",
      "              2407d482f0ffa22a947068f2551fe62c          101         101   \n",
      "              2920ece99323b4c111d6f9affc7ea034           79          79   \n",
      "              307afa4120c590b3a46cf4ff5415608a            5           5   \n",
      "              364bf755f9b270f0f9141d1a61de43ee           51          51   \n",
      "              38d5ad2d22b61109fd8e7b43cd0e8901           63          63   \n",
      "              3a43dcdff3c0b66b1acb1644ff055f9d           20          20   \n",
      "              3e12208dd0be281c92a6ab57d9a6fb32            4           4   \n",
      "              445ff793ebd3477d4a2e0b36b2db9271            2           2   \n",
      "              44c097b7bd219d104050abbafe51bd49            3           3   \n",
      "              4725c39a5e5f4c188d382da3910b3f3f          218         218   \n",
      "              4b7f6f4e2bf237b6cc58f57142bea5c0            1           1   \n",
      "              4f4041f7db0c7f69892d9b74c1a7efa1            1           1   \n",
      "              4f8d81b5c31af5d1ba579a65ddc8a5cb            4           4   \n",
      "              52a4e8aaa12f70020e889aed8fd5ddbc           13          13   \n",
      "              52d7b69796362a8ed1691a6cc02ddde4            3           3   \n",
      "              52e56004d92b8c74d53e1e42699cba6f            9           9   \n",
      "              58c7a4888306d8ff3a641d1c0feccbe3            3           3   \n",
      "              62afaf3288e236b389af9cfdc5206415          196         196   \n",
      "              693a21b16653871bbd455403da5412b4           19          19   \n",
      "              73ff8ef735e1d68f0cdcbb84d788f2b6            5           5   \n",
      "              74c1c25f4b283fa74a5514307b0d0278          144         144   \n",
      "              74ec84f1cf75cf89ae176c8c6ceec5ba            1           1   \n",
      "              825a21aa308dea206adb49c4b77c7805            1           1   \n",
      "              825c426141df01d38c1b9e9c5330bdac            1           1   \n",
      "...                                                     ...         ...   \n",
      "2016-01-01-99 82cc4851f9e4faa4e54309f8bb73fd7c          287         287   \n",
      "              8316146a6f78cc6d9f113f0390859417            1           1   \n",
      "              87285a66236346350541b8815c5fae94           50          50   \n",
      "              8bb37d24db1ad665e706c2655d9c4c72            5           5   \n",
      "              90c5a34f06ac86aee0fd70e2adce7d8a          238         238   \n",
      "              91690261186ae5bee8f83808ea1e4a01          100         100   \n",
      "              929ec6c160e6f52c20a4217c7978f681          417         417   \n",
      "              a5609739c6b5c2719a3752327c5e33a7           54          54   \n",
      "              a735449c5c09df639c35a7d61fad3ee5            2           2   \n",
      "              a814069db8d32f0fa6e188f41059c6e1           11          11   \n",
      "              b05379ac3f9b7d99370d443cfd5dcc28          170         170   \n",
      "              b26a240205c852804ff8758628c0a86a           69          69   \n",
      "              b702e920dcd2765e624dc1ce3a770512           59          59   \n",
      "              ba32abfc048219e933bee869741da911           28          28   \n",
      "              bf44d327f0232325c6d5280926d7b37d           16          16   \n",
      "              c4ec24e0a58ebedaa1661e5c09e47bb5           20          20   \n",
      "              c9f855e3e13480aad0af64b418e810c3            1           1   \n",
      "              ca064c2682ca48c6a21de012e87c0df5           87          87   \n",
      "              cb6041cc08444746caf6039d8b9e43cb            2           2   \n",
      "              d05052b4bda7662a084f235e880f50fa           29          29   \n",
      "              d4ec2125aff74eded207d2d915ef682f         1133        1133   \n",
      "              d524868ce69cb9db10fc5af177fb9423            6           6   \n",
      "              d5cb17978de290c56e84c9cf97e63186            7           7   \n",
      "              dd8d3b9665536d6e05b29c2648c0e69a           30          30   \n",
      "              de092beab9305613aca8f79d7d7224e7            3           3   \n",
      "              f2c8c4bb99e6377d21de71275afd6cd2           30          30   \n",
      "              f47f35242ed40655814bc086d7514046            6           6   \n",
      "              f9280c5dab6910ed44e518248048b9fe            9           9   \n",
      "              fc34648599753c9e74ab238e9a4a07ad          102         102   \n",
      "              fff4e8465d1e12621bc361276b6217cf            3           3   \n",
      "\n",
      "                                                fee_sum  \n",
      "Time          start_district_hash                        \n",
      "2016-01-01-1  1afd7afbc81ecc1b13886a569d869e8a   2105.0  \n",
      "              1c60154546102e6525f68cb4f31e0657     54.0  \n",
      "              1cbfbdd079ef93e74405c53fcfff8567    123.0  \n",
      "              1ecbb52d73c522f184a6fc53128b1ea1    193.0  \n",
      "              2301bc920194c95cf0c7486e5675243c     73.0  \n",
      "              2350be163432e42270d2670cb3c02f80     42.0  \n",
      "              2407d482f0ffa22a947068f2551fe62c   2009.0  \n",
      "              2920ece99323b4c111d6f9affc7ea034   2007.0  \n",
      "              307afa4120c590b3a46cf4ff5415608a     82.0  \n",
      "              364bf755f9b270f0f9141d1a61de43ee    678.0  \n",
      "              38d5ad2d22b61109fd8e7b43cd0e8901   1316.0  \n",
      "              3a43dcdff3c0b66b1acb1644ff055f9d    381.0  \n",
      "              3e12208dd0be281c92a6ab57d9a6fb32    125.0  \n",
      "              445ff793ebd3477d4a2e0b36b2db9271     15.0  \n",
      "              44c097b7bd219d104050abbafe51bd49     93.0  \n",
      "              4725c39a5e5f4c188d382da3910b3f3f   4880.0  \n",
      "              4b7f6f4e2bf237b6cc58f57142bea5c0      4.0  \n",
      "              4f4041f7db0c7f69892d9b74c1a7efa1     28.0  \n",
      "              4f8d81b5c31af5d1ba579a65ddc8a5cb     76.0  \n",
      "              52a4e8aaa12f70020e889aed8fd5ddbc    276.0  \n",
      "              52d7b69796362a8ed1691a6cc02ddde4     47.0  \n",
      "              52e56004d92b8c74d53e1e42699cba6f    261.0  \n",
      "              58c7a4888306d8ff3a641d1c0feccbe3     76.0  \n",
      "              62afaf3288e236b389af9cfdc5206415   4358.0  \n",
      "              693a21b16653871bbd455403da5412b4   1944.0  \n",
      "              73ff8ef735e1d68f0cdcbb84d788f2b6     85.0  \n",
      "              74c1c25f4b283fa74a5514307b0d0278   2502.0  \n",
      "              74ec84f1cf75cf89ae176c8c6ceec5ba     58.0  \n",
      "              825a21aa308dea206adb49c4b77c7805     25.0  \n",
      "              825c426141df01d38c1b9e9c5330bdac     12.0  \n",
      "...                                                 ...  \n",
      "2016-01-01-99 82cc4851f9e4faa4e54309f8bb73fd7c   4977.7  \n",
      "              8316146a6f78cc6d9f113f0390859417     15.0  \n",
      "              87285a66236346350541b8815c5fae94    725.0  \n",
      "              8bb37d24db1ad665e706c2655d9c4c72    188.7  \n",
      "              90c5a34f06ac86aee0fd70e2adce7d8a   3062.8  \n",
      "              91690261186ae5bee8f83808ea1e4a01   1550.3  \n",
      "              929ec6c160e6f52c20a4217c7978f681   7791.6  \n",
      "              a5609739c6b5c2719a3752327c5e33a7   1098.2  \n",
      "              a735449c5c09df639c35a7d61fad3ee5     30.6  \n",
      "              a814069db8d32f0fa6e188f41059c6e1    192.0  \n",
      "              b05379ac3f9b7d99370d443cfd5dcc28   3319.4  \n",
      "              b26a240205c852804ff8758628c0a86a   1405.5  \n",
      "              b702e920dcd2765e624dc1ce3a770512   1552.9  \n",
      "              ba32abfc048219e933bee869741da911    188.0  \n",
      "              bf44d327f0232325c6d5280926d7b37d    133.0  \n",
      "              c4ec24e0a58ebedaa1661e5c09e47bb5    185.0  \n",
      "              c9f855e3e13480aad0af64b418e810c3     15.0  \n",
      "              ca064c2682ca48c6a21de012e87c0df5   1438.0  \n",
      "              cb6041cc08444746caf6039d8b9e43cb     94.0  \n",
      "              d05052b4bda7662a084f235e880f50fa    537.1  \n",
      "              d4ec2125aff74eded207d2d915ef682f  21329.2  \n",
      "              d524868ce69cb9db10fc5af177fb9423    152.0  \n",
      "              d5cb17978de290c56e84c9cf97e63186    247.0  \n",
      "              dd8d3b9665536d6e05b29c2648c0e69a    568.7  \n",
      "              de092beab9305613aca8f79d7d7224e7     26.0  \n",
      "              f2c8c4bb99e6377d21de71275afd6cd2    261.0  \n",
      "              f47f35242ed40655814bc086d7514046    123.0  \n",
      "              f9280c5dab6910ed44e518248048b9fe    164.8  \n",
      "              fc34648599753c9e74ab238e9a4a07ad   1282.0  \n",
      "              fff4e8465d1e12621bc361276b6217cf     75.0  \n",
      "\n",
      "[8229 rows x 3 columns]\n"
     ]
    }
   ],
   "source": [
    "grouped = data.groupby([\"Time\",\"start_district_hash\"], sort=True)\n",
    "df[\"order_count\"] = grouped.count()[\"dest_district_hash\"]\n",
    "df[\"null_count\"] = grouped.count()[\"NULL\"]\n",
    "df[\"fee_sum\"] = grouped.sum()[\"Price\"]\n",
    "\n",
    "print(df)\n",
    "\n",
    "    \n"
   ]
  },
  {
   "cell_type": "code",
   "execution_count": null,
   "metadata": {
    "collapsed": true
   },
   "outputs": [],
   "source": []
  },
  {
   "cell_type": "code",
   "execution_count": null,
   "metadata": {
    "collapsed": true
   },
   "outputs": [],
   "source": []
  }
 ],
 "metadata": {
  "kernelspec": {
   "display_name": "Python 3",
   "language": "python",
   "name": "python3"
  },
  "language_info": {
   "codemirror_mode": {
    "name": "ipython",
    "version": 3
   },
   "file_extension": ".py",
   "mimetype": "text/x-python",
   "name": "python",
   "nbconvert_exporter": "python",
   "pygments_lexer": "ipython3",
   "version": "3.4.4"
  }
 },
 "nbformat": 4,
 "nbformat_minor": 0
}

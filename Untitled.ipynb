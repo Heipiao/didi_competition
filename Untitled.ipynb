{
 "cells": [
  {
   "cell_type": "code",
   "execution_count": 49,
   "metadata": {
    "collapsed": false
   },
   "outputs": [
    {
     "name": "stdout",
     "output_type": "stream",
     "text": [
      "               Time  start_district  order_count  null_count  fee_sum  time  \\\n",
      "8227  2016-01-01-99              65            1           1     35.0    99   \n",
      "8228  2016-01-01-99              66           17           0    524.0    99   \n",
      "\n",
      "      Weather  PM2.5  temperature        date  week  \n",
      "8227        2    168           12  2016-01-01     5  \n",
      "8228        2    168           12  2016-01-01     5  \n"
     ]
    }
   ],
   "source": [
    "import pandas as pd  \n",
    "import matplotlib.pyplot as plt\n",
    "data = pd.read_csv(\"../../season_1_sad/training_data/order_data/order_data_2016-01-01.csv\")\n",
    "weather = pd.read_csv(\"../../season_1_sad/training_data/weather_data/weather_data_2016-01-01.csv\")\n",
    "data['time'] = data[\"Time\"].map(lambda x: x[11:]).astype(int)\n",
    "\n",
    "combine = pd.merge(data,weather,how='outer',on='time')\n",
    "# sub_district = combine[combine.start_district==1]\n",
    "# plt.plot(sub_district.time,sub_district.order_count)\n",
    "# plt.show()\n",
    "# plt.scatter(combine.fee_sum,combine.order_count)\n",
    "# plt.show()\n",
    "\n",
    "print(combine.tail(2))\n",
    "\n",
    "\n"
   ]
  },
  {
   "cell_type": "code",
   "execution_count": 54,
   "metadata": {
    "collapsed": false
   },
   "outputs": [],
   "source": [
    "plt.scatter(combine.Weather,combine.order_count)\n",
    "plt.show()"
   ]
  },
  {
   "cell_type": "code",
   "execution_count": null,
   "metadata": {
    "collapsed": false
   },
   "outputs": [],
   "source": [
    "\n",
    "    \n"
   ]
  },
  {
   "cell_type": "code",
   "execution_count": null,
   "metadata": {
    "collapsed": true
   },
   "outputs": [],
   "source": []
  },
  {
   "cell_type": "code",
   "execution_count": null,
   "metadata": {
    "collapsed": true
   },
   "outputs": [],
   "source": []
  }
 ],
 "metadata": {
  "kernelspec": {
   "display_name": "Python 3",
   "language": "python",
   "name": "python3"
  },
  "language_info": {
   "codemirror_mode": {
    "name": "ipython",
    "version": 3
   },
   "file_extension": ".py",
   "mimetype": "text/x-python",
   "name": "python",
   "nbconvert_exporter": "python",
   "pygments_lexer": "ipython3",
   "version": "3.4.4"
  }
 },
 "nbformat": 4,
 "nbformat_minor": 0
}

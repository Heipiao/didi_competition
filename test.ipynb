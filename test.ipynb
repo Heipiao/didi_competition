{
 "cells": [
  {
   "cell_type": "code",
   "execution_count": 5,
   "metadata": {
    "collapsed": false
   },
   "outputs": [
    {
     "name": "stdout",
     "output_type": "stream",
     "text": [
      "Index(['Weather', 'temperature', 'PM2.5', 'week', 'date', 'time'], dtype='object')\n"
     ]
    }
   ],
   "source": [
    "import pandas as pd\n",
    "\n",
    "data = pd.read_csv(\"../../season_1_sad/training_data/weather_data/weather_data_2016-01-06.csv\")\n",
    "data = data.drop_duplicates([\"time\"])\n",
    "data.reset_index(drop=True,inplace=True)\n",
    "\n",
    "print(data.columns)\n",
    "\n",
    "date = data[\"date\"].unique()[0]\n",
    "week = data[\"week\"].unique()[0]\n",
    "\n",
    "\n",
    "dict1 = dict(zip(data.time,data.Weather))\n",
    "dict2 = dict(zip(data.time,data[\"PM2.5\"]))\n",
    "dict3 = dict(zip(data.time,data[\"temperature\"]))\n",
    "\n",
    "\n",
    "\n"
   ]
  },
  {
   "cell_type": "code",
   "execution_count": 6,
   "metadata": {
    "collapsed": false
   },
   "outputs": [],
   "source": [
    "\n",
    "df = pd.DataFrame(columns=[\"time\",\"Weather\",\"PM2.5\",\"date\",\"week\"])\n",
    "df[\"time\"]=pd.Series(range(1,145))\n",
    "df[\"Weather\"]=0\n",
    "df[\"PM2.5\"]=0\n",
    "df[\"temperature\"]=0\n",
    "df[\"date\"] = date\n",
    "df[\"week\"] = week\n",
    "default_wea = 0\n",
    "default_pm = 0\n",
    "default_tem = 0\n",
    "for x in df[\"time\"]:\n",
    "    default_wea = dict1.get(x,default_wea)\n",
    "    default_pm = dict2.get(x,default_pm)\n",
    "    default_tem = dict3.get(x,default_tem)\n",
    "   \n",
    "    \n",
    "    df[\"Weather\"] = df[\"Weather\"].set_value(int(x)-1,default_wea)\n",
    "    df[\"PM2.5\"] = df[\"PM2.5\"].set_value(int(x)-1,default_pm)\n",
    "    df[\"temperature\"] =  df[\"temperature\"].set_value(int(x)-1,default_tem)\n",
    "    "
   ]
  },
  {
   "cell_type": "code",
   "execution_count": 7,
   "metadata": {
    "collapsed": false
   },
   "outputs": [
    {
     "name": "stderr",
     "output_type": "stream",
     "text": [
      "/Library/Frameworks/Python.framework/Versions/3.4/lib/python3.4/site-packages/ipykernel/__main__.py:7: SettingWithCopyWarning: \n",
      "A value is trying to be set on a copy of a slice from a DataFrame\n",
      "\n",
      "See the caveats in the documentation: http://pandas.pydata.org/pandas-docs/stable/indexing.html#indexing-view-versus-copy\n"
     ]
    },
    {
     "name": "stdout",
     "output_type": "stream",
     "text": [
      "     time  Weather  PM2.5        date  week  temperature\n",
      "0       1        4     53  2016-01-06     3            8\n",
      "1       2        4     53  2016-01-06     3            8\n",
      "2       3        4     53  2016-01-06     3            8\n",
      "3       4        4     53  2016-01-06     3            8\n",
      "4       5        4     56  2016-01-06     3            8\n",
      "5       6        8     56  2016-01-06     3            8\n",
      "6       7        8     56  2016-01-06     3            8\n",
      "7       8        8     56  2016-01-06     3            8\n",
      "8       9        8     56  2016-01-06     3            8\n",
      "9      10        8     56  2016-01-06     3            8\n",
      "10     11        3     55  2016-01-06     3            8\n",
      "11     12        3     55  2016-01-06     3            8\n",
      "12     13        3     55  2016-01-06     3            8\n",
      "13     14        3     55  2016-01-06     3            8\n",
      "14     15        3     55  2016-01-06     3            8\n",
      "15     16        3     55  2016-01-06     3            8\n",
      "16     17        3     55  2016-01-06     3            8\n",
      "17     18        3     45  2016-01-06     3            8\n",
      "18     19        3     45  2016-01-06     3            8\n",
      "19     20        3     45  2016-01-06     3            7\n",
      "20     21        3     45  2016-01-06     3            7\n",
      "21     22        3     45  2016-01-06     3            7\n",
      "22     23        3     42  2016-01-06     3            7\n",
      "23     24        3     42  2016-01-06     3            7\n",
      "24     25        4     42  2016-01-06     3            7\n",
      "25     26        4     42  2016-01-06     3            7\n",
      "26     27        4     42  2016-01-06     3            7\n",
      "27     28        4     42  2016-01-06     3            7\n",
      "28     29        4     42  2016-01-06     3            7\n",
      "29     30        4     42  2016-01-06     3            7\n",
      "..    ...      ...    ...         ...   ...          ...\n",
      "114   115        4     85  2016-01-06     3            8\n",
      "115   116        4     85  2016-01-06     3            8\n",
      "116   117        4     85  2016-01-06     3            8\n",
      "117   118        4     85  2016-01-06     3            8\n",
      "118   119        4     88  2016-01-06     3            8\n",
      "119   120        4     88  2016-01-06     3            8\n",
      "120   121        4     88  2016-01-06     3            8\n",
      "121   122        4     88  2016-01-06     3            8\n",
      "122   123        4     88  2016-01-06     3            8\n",
      "123   124        4     88  2016-01-06     3            8\n",
      "124   125        4     93  2016-01-06     3            8\n",
      "125   126        4     93  2016-01-06     3            8\n",
      "126   127        4     93  2016-01-06     3            8\n",
      "127   128        4     93  2016-01-06     3            7\n",
      "128   129        4     93  2016-01-06     3            7\n",
      "129   130        4     93  2016-01-06     3            7\n",
      "130   131        4     93  2016-01-06     3            7\n",
      "131   132        4     93  2016-01-06     3            7\n",
      "132   133        4     93  2016-01-06     3            7\n",
      "133   134        4     93  2016-01-06     3            7\n",
      "134   135        4     93  2016-01-06     3            7\n",
      "135   136        4     93  2016-01-06     3            7\n",
      "136   137        4     93  2016-01-06     3            7\n",
      "137   138        4     93  2016-01-06     3            7\n",
      "138   139        4     93  2016-01-06     3            7\n",
      "139   140        4     93  2016-01-06     3            7\n",
      "140   141        4     93  2016-01-06     3            7\n",
      "141   142        4     93  2016-01-06     3            7\n",
      "142   143        4     93  2016-01-06     3            8\n",
      "143   144        4     93  2016-01-06     3            8\n",
      "\n",
      "[144 rows x 6 columns]\n"
     ]
    }
   ],
   "source": [
    "for x in df[\"time\"]:\n",
    "    if(x>2 and x<143):\n",
    "      \n",
    "        s1=df[\"Weather\"][int(x)-1]\n",
    "        s2=df[\"Weather\"][int(x)+1]\n",
    "        if(s1 == s2):\n",
    "            df[\"Weather\"][x]=s1\n",
    "        else:\n",
    "            pass\n",
    "    else:\n",
    "        pass\n",
    "    \n",
    "print(df)"
   ]
  },
  {
   "cell_type": "code",
   "execution_count": 15,
   "metadata": {
    "collapsed": false
   },
   "outputs": [],
   "source": [
    "plot_single_day_weather(df)"
   ]
  },
  {
   "cell_type": "markdown",
   "metadata": {},
   "source": [
    "# "
   ]
  },
  {
   "cell_type": "code",
   "execution_count": null,
   "metadata": {
    "collapsed": true
   },
   "outputs": [],
   "source": []
  },
  {
   "cell_type": "code",
   "execution_count": null,
   "metadata": {
    "collapsed": true
   },
   "outputs": [],
   "source": []
  },
  {
   "cell_type": "code",
   "execution_count": null,
   "metadata": {
    "collapsed": true
   },
   "outputs": [],
   "source": []
  },
  {
   "cell_type": "code",
   "execution_count": null,
   "metadata": {
    "collapsed": true
   },
   "outputs": [],
   "source": []
  }
 ],
 "metadata": {
  "kernelspec": {
   "display_name": "Python 3",
   "language": "python",
   "name": "python3"
  },
  "language_info": {
   "codemirror_mode": {
    "name": "ipython",
    "version": 3
   },
   "file_extension": ".py",
   "mimetype": "text/x-python",
   "name": "python",
   "nbconvert_exporter": "python",
   "pygments_lexer": "ipython3",
   "version": "3.4.4"
  }
 },
 "nbformat": 4,
 "nbformat_minor": 0
}

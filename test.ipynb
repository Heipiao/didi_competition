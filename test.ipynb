{
 "cells": [
  {
   "cell_type": "code",
   "execution_count": 12,
   "metadata": {
    "collapsed": false
   },
   "outputs": [],
   "source": [
    "import pandas as pd\n",
    "\n",
    "from operate_plot_weather import plot_single_day_weather\n",
    "\n",
    "data = pd.read_csv(\"../../season_1_sad/training_data/weather_data/weather_data_2016-01-06.csv\")\n",
    "data = data.drop_duplicates([\"time\"])\n",
    "data.reset_index(drop=True,inplace=True)\n",
    "\n",
    "\n",
    "dict1 = dict(zip(data.time,data.Weather))\n",
    "dict2 = dict(zip(data.time,data[\"PM2.5\"]))\n",
    "dict3 = dict(zip(data.time,data[\"temperature\"]))\n",
    "\n",
    "\n",
    "\n"
   ]
  },
  {
   "cell_type": "code",
   "execution_count": 13,
   "metadata": {
    "collapsed": false
   },
   "outputs": [],
   "source": [
    "\n",
    "df = pd.DataFrame(columns=[\"time\",\"Weather\",\"PM2.5\"])\n",
    "df[\"time\"]=pd.Series(range(1,145))\n",
    "df[\"Weather\"]=0\n",
    "df[\"PM2.5\"]=0\n",
    "df[\"temperature\"]=0\n",
    "default_wea = 0\n",
    "default_pm = 0\n",
    "default_tem = 0\n",
    "for x in df[\"time\"]:\n",
    "    default_wea = dict1.get(x,default_wea)\n",
    "    default_pm = dict2.get(x,default_pm)\n",
    "    default_tem = dict3.get(x,default_tem)\n",
    "   \n",
    "    \n",
    "    df[\"Weather\"] = df[\"Weather\"].set_value(int(x)-1,default_wea)\n",
    "    df[\"PM2.5\"] = df[\"PM2.5\"].set_value(int(x)-1,default_pm)\n",
    "    df[\"temperature\"] =  df[\"temperature\"].set_value(int(x)-1,default_tem)\n",
    "    \n",
    "\n"
   ]
  },
  {
   "cell_type": "code",
   "execution_count": 14,
   "metadata": {
    "collapsed": false
   },
   "outputs": [],
   "source": [
    "for x in df[\"time\"]:\n",
    "    if(x>2 and x<143):\n",
    "      \n",
    "        s1=df[\"Weather\"][int(x)-1]\n",
    "        s2=df[\"Weather\"][int(x)+1]\n",
    "        if(s1 == s2):\n",
    "            df[\"Weather\"][x]=s1\n",
    "        else:\n",
    "            pass\n",
    "    else:\n",
    "        pass\n",
    "    "
   ]
  },
  {
   "cell_type": "code",
   "execution_count": 15,
   "metadata": {
    "collapsed": false
   },
   "outputs": [],
   "source": [
    "plot_single_day_weather(df)"
   ]
  },
  {
   "cell_type": "markdown",
   "metadata": {},
   "source": [
    "# "
   ]
  },
  {
   "cell_type": "code",
   "execution_count": null,
   "metadata": {
    "collapsed": true
   },
   "outputs": [],
   "source": []
  },
  {
   "cell_type": "code",
   "execution_count": null,
   "metadata": {
    "collapsed": true
   },
   "outputs": [],
   "source": []
  },
  {
   "cell_type": "code",
   "execution_count": null,
   "metadata": {
    "collapsed": true
   },
   "outputs": [],
   "source": []
  },
  {
   "cell_type": "code",
   "execution_count": null,
   "metadata": {
    "collapsed": true
   },
   "outputs": [],
   "source": []
  }
 ],
 "metadata": {
  "kernelspec": {
   "display_name": "Python 3",
   "language": "python",
   "name": "python3"
  },
  "language_info": {
   "codemirror_mode": {
    "name": "ipython",
    "version": 3
   },
   "file_extension": ".py",
   "mimetype": "text/x-python",
   "name": "python",
   "nbconvert_exporter": "python",
   "pygments_lexer": "ipython3",
   "version": "3.4.4"
  }
 },
 "nbformat": 4,
 "nbformat_minor": 0
}
